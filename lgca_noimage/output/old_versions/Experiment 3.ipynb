{
 "cells": [
  {
   "cell_type": "code",
   "execution_count": 1,
   "metadata": {},
   "outputs": [],
   "source": [
    "import matplotlib.pyplot as plt\n",
    "import numpy as np"
   ]
  },
  {
   "cell_type": "markdown",
   "metadata": {},
   "source": [
    "# $b_T = 16$"
   ]
  },
  {
   "cell_type": "code",
   "execution_count": 2,
   "metadata": {},
   "outputs": [
    {
     "ename": "Exception",
     "evalue": "File `'sim003b.py'` not found.",
     "output_type": "error",
     "traceback": [
      "\u001b[0;31m---------------------------------------------------------------------------\u001b[0m",
      "\u001b[0;31mOSError\u001b[0m                                   Traceback (most recent call last)",
      "\u001b[0;32m~/anaconda3/lib/python3.8/site-packages/IPython/core/magics/execution.py\u001b[0m in \u001b[0;36mrun\u001b[0;34m(self, parameter_s, runner, file_finder)\u001b[0m\n\u001b[1;32m    702\u001b[0m             \u001b[0mfpath\u001b[0m \u001b[0;34m=\u001b[0m \u001b[0marg_lst\u001b[0m\u001b[0;34m[\u001b[0m\u001b[0;36m0\u001b[0m\u001b[0;34m]\u001b[0m\u001b[0;34m\u001b[0m\u001b[0;34m\u001b[0m\u001b[0m\n\u001b[0;32m--> 703\u001b[0;31m             \u001b[0mfilename\u001b[0m \u001b[0;34m=\u001b[0m \u001b[0mfile_finder\u001b[0m\u001b[0;34m(\u001b[0m\u001b[0mfpath\u001b[0m\u001b[0;34m)\u001b[0m\u001b[0;34m\u001b[0m\u001b[0;34m\u001b[0m\u001b[0m\n\u001b[0m\u001b[1;32m    704\u001b[0m         \u001b[0;32mexcept\u001b[0m \u001b[0mIndexError\u001b[0m\u001b[0;34m:\u001b[0m\u001b[0;34m\u001b[0m\u001b[0;34m\u001b[0m\u001b[0m\n",
      "\u001b[0;32m~/anaconda3/lib/python3.8/site-packages/IPython/utils/path.py\u001b[0m in \u001b[0;36mget_py_filename\u001b[0;34m(name, force_win32)\u001b[0m\n\u001b[1;32m    108\u001b[0m     \u001b[0;32melse\u001b[0m\u001b[0;34m:\u001b[0m\u001b[0;34m\u001b[0m\u001b[0;34m\u001b[0m\u001b[0m\n\u001b[0;32m--> 109\u001b[0;31m         \u001b[0;32mraise\u001b[0m \u001b[0mIOError\u001b[0m\u001b[0;34m(\u001b[0m\u001b[0;34m'File `%r` not found.'\u001b[0m \u001b[0;34m%\u001b[0m \u001b[0mname\u001b[0m\u001b[0;34m)\u001b[0m\u001b[0;34m\u001b[0m\u001b[0;34m\u001b[0m\u001b[0m\n\u001b[0m\u001b[1;32m    110\u001b[0m \u001b[0;34m\u001b[0m\u001b[0m\n",
      "\u001b[0;31mOSError\u001b[0m: File `'sim003b.py'` not found.",
      "\nDuring handling of the above exception, another exception occurred:\n",
      "\u001b[0;31mException\u001b[0m                                 Traceback (most recent call last)",
      "\u001b[0;32m/tmp/ipykernel_8004/4152350783.py\u001b[0m in \u001b[0;36m<module>\u001b[0;34m\u001b[0m\n\u001b[0;32m----> 1\u001b[0;31m \u001b[0mget_ipython\u001b[0m\u001b[0;34m(\u001b[0m\u001b[0;34m)\u001b[0m\u001b[0;34m.\u001b[0m\u001b[0mrun_line_magic\u001b[0m\u001b[0;34m(\u001b[0m\u001b[0;34m'run'\u001b[0m\u001b[0;34m,\u001b[0m \u001b[0;34m'sim003b.py'\u001b[0m\u001b[0;34m)\u001b[0m\u001b[0;34m\u001b[0m\u001b[0;34m\u001b[0m\u001b[0m\n\u001b[0m\u001b[1;32m      2\u001b[0m \u001b[0mVecbS\u001b[0m \u001b[0;34m=\u001b[0m \u001b[0;34m[\u001b[0m\u001b[0;36m4\u001b[0m\u001b[0;34m,\u001b[0m\u001b[0;36m8\u001b[0m\u001b[0;34m,\u001b[0m\u001b[0;36m12\u001b[0m\u001b[0;34m,\u001b[0m\u001b[0;36m16\u001b[0m\u001b[0;34m,\u001b[0m\u001b[0;36m20\u001b[0m\u001b[0;34m,\u001b[0m\u001b[0;36m24\u001b[0m\u001b[0;34m]\u001b[0m\u001b[0;34m\u001b[0m\u001b[0;34m\u001b[0m\u001b[0m\n",
      "\u001b[0;32m~/anaconda3/lib/python3.8/site-packages/IPython/core/interactiveshell.py\u001b[0m in \u001b[0;36mrun_line_magic\u001b[0;34m(self, magic_name, line, _stack_depth)\u001b[0m\n\u001b[1;32m   2346\u001b[0m                 \u001b[0mkwargs\u001b[0m\u001b[0;34m[\u001b[0m\u001b[0;34m'local_ns'\u001b[0m\u001b[0;34m]\u001b[0m \u001b[0;34m=\u001b[0m \u001b[0mself\u001b[0m\u001b[0;34m.\u001b[0m\u001b[0mget_local_scope\u001b[0m\u001b[0;34m(\u001b[0m\u001b[0mstack_depth\u001b[0m\u001b[0;34m)\u001b[0m\u001b[0;34m\u001b[0m\u001b[0;34m\u001b[0m\u001b[0m\n\u001b[1;32m   2347\u001b[0m             \u001b[0;32mwith\u001b[0m \u001b[0mself\u001b[0m\u001b[0;34m.\u001b[0m\u001b[0mbuiltin_trap\u001b[0m\u001b[0;34m:\u001b[0m\u001b[0;34m\u001b[0m\u001b[0;34m\u001b[0m\u001b[0m\n\u001b[0;32m-> 2348\u001b[0;31m                 \u001b[0mresult\u001b[0m \u001b[0;34m=\u001b[0m \u001b[0mfn\u001b[0m\u001b[0;34m(\u001b[0m\u001b[0;34m*\u001b[0m\u001b[0margs\u001b[0m\u001b[0;34m,\u001b[0m \u001b[0;34m**\u001b[0m\u001b[0mkwargs\u001b[0m\u001b[0;34m)\u001b[0m\u001b[0;34m\u001b[0m\u001b[0;34m\u001b[0m\u001b[0m\n\u001b[0m\u001b[1;32m   2349\u001b[0m             \u001b[0;32mreturn\u001b[0m \u001b[0mresult\u001b[0m\u001b[0;34m\u001b[0m\u001b[0;34m\u001b[0m\u001b[0m\n\u001b[1;32m   2350\u001b[0m \u001b[0;34m\u001b[0m\u001b[0m\n",
      "\u001b[0;32m~/anaconda3/lib/python3.8/site-packages/decorator.py\u001b[0m in \u001b[0;36mfun\u001b[0;34m(*args, **kw)\u001b[0m\n\u001b[1;32m    230\u001b[0m             \u001b[0;32mif\u001b[0m \u001b[0;32mnot\u001b[0m \u001b[0mkwsyntax\u001b[0m\u001b[0;34m:\u001b[0m\u001b[0;34m\u001b[0m\u001b[0;34m\u001b[0m\u001b[0m\n\u001b[1;32m    231\u001b[0m                 \u001b[0margs\u001b[0m\u001b[0;34m,\u001b[0m \u001b[0mkw\u001b[0m \u001b[0;34m=\u001b[0m \u001b[0mfix\u001b[0m\u001b[0;34m(\u001b[0m\u001b[0margs\u001b[0m\u001b[0;34m,\u001b[0m \u001b[0mkw\u001b[0m\u001b[0;34m,\u001b[0m \u001b[0msig\u001b[0m\u001b[0;34m)\u001b[0m\u001b[0;34m\u001b[0m\u001b[0;34m\u001b[0m\u001b[0m\n\u001b[0;32m--> 232\u001b[0;31m             \u001b[0;32mreturn\u001b[0m \u001b[0mcaller\u001b[0m\u001b[0;34m(\u001b[0m\u001b[0mfunc\u001b[0m\u001b[0;34m,\u001b[0m \u001b[0;34m*\u001b[0m\u001b[0;34m(\u001b[0m\u001b[0mextras\u001b[0m \u001b[0;34m+\u001b[0m \u001b[0margs\u001b[0m\u001b[0;34m)\u001b[0m\u001b[0;34m,\u001b[0m \u001b[0;34m**\u001b[0m\u001b[0mkw\u001b[0m\u001b[0;34m)\u001b[0m\u001b[0;34m\u001b[0m\u001b[0;34m\u001b[0m\u001b[0m\n\u001b[0m\u001b[1;32m    233\u001b[0m     \u001b[0mfun\u001b[0m\u001b[0;34m.\u001b[0m\u001b[0m__name__\u001b[0m \u001b[0;34m=\u001b[0m \u001b[0mfunc\u001b[0m\u001b[0;34m.\u001b[0m\u001b[0m__name__\u001b[0m\u001b[0;34m\u001b[0m\u001b[0;34m\u001b[0m\u001b[0m\n\u001b[1;32m    234\u001b[0m     \u001b[0mfun\u001b[0m\u001b[0;34m.\u001b[0m\u001b[0m__doc__\u001b[0m \u001b[0;34m=\u001b[0m \u001b[0mfunc\u001b[0m\u001b[0;34m.\u001b[0m\u001b[0m__doc__\u001b[0m\u001b[0;34m\u001b[0m\u001b[0;34m\u001b[0m\u001b[0m\n",
      "\u001b[0;32m~/anaconda3/lib/python3.8/site-packages/IPython/core/magic.py\u001b[0m in \u001b[0;36m<lambda>\u001b[0;34m(f, *a, **k)\u001b[0m\n\u001b[1;32m    185\u001b[0m     \u001b[0;31m# but it's overkill for just that one bit of state.\u001b[0m\u001b[0;34m\u001b[0m\u001b[0;34m\u001b[0m\u001b[0;34m\u001b[0m\u001b[0m\n\u001b[1;32m    186\u001b[0m     \u001b[0;32mdef\u001b[0m \u001b[0mmagic_deco\u001b[0m\u001b[0;34m(\u001b[0m\u001b[0marg\u001b[0m\u001b[0;34m)\u001b[0m\u001b[0;34m:\u001b[0m\u001b[0;34m\u001b[0m\u001b[0;34m\u001b[0m\u001b[0m\n\u001b[0;32m--> 187\u001b[0;31m         \u001b[0mcall\u001b[0m \u001b[0;34m=\u001b[0m \u001b[0;32mlambda\u001b[0m \u001b[0mf\u001b[0m\u001b[0;34m,\u001b[0m \u001b[0;34m*\u001b[0m\u001b[0ma\u001b[0m\u001b[0;34m,\u001b[0m \u001b[0;34m**\u001b[0m\u001b[0mk\u001b[0m\u001b[0;34m:\u001b[0m \u001b[0mf\u001b[0m\u001b[0;34m(\u001b[0m\u001b[0;34m*\u001b[0m\u001b[0ma\u001b[0m\u001b[0;34m,\u001b[0m \u001b[0;34m**\u001b[0m\u001b[0mk\u001b[0m\u001b[0;34m)\u001b[0m\u001b[0;34m\u001b[0m\u001b[0;34m\u001b[0m\u001b[0m\n\u001b[0m\u001b[1;32m    188\u001b[0m \u001b[0;34m\u001b[0m\u001b[0m\n\u001b[1;32m    189\u001b[0m         \u001b[0;32mif\u001b[0m \u001b[0mcallable\u001b[0m\u001b[0;34m(\u001b[0m\u001b[0marg\u001b[0m\u001b[0;34m)\u001b[0m\u001b[0;34m:\u001b[0m\u001b[0;34m\u001b[0m\u001b[0;34m\u001b[0m\u001b[0m\n",
      "\u001b[0;32m~/anaconda3/lib/python3.8/site-packages/IPython/core/magics/execution.py\u001b[0m in \u001b[0;36mrun\u001b[0;34m(self, parameter_s, runner, file_finder)\u001b[0m\n\u001b[1;32m    712\u001b[0m             \u001b[0;32mif\u001b[0m \u001b[0mos\u001b[0m\u001b[0;34m.\u001b[0m\u001b[0mname\u001b[0m \u001b[0;34m==\u001b[0m \u001b[0;34m'nt'\u001b[0m \u001b[0;32mand\u001b[0m \u001b[0mre\u001b[0m\u001b[0;34m.\u001b[0m\u001b[0mmatch\u001b[0m\u001b[0;34m(\u001b[0m\u001b[0;34mr\"^'.*'$\"\u001b[0m\u001b[0;34m,\u001b[0m\u001b[0mfpath\u001b[0m\u001b[0;34m)\u001b[0m\u001b[0;34m:\u001b[0m\u001b[0;34m\u001b[0m\u001b[0;34m\u001b[0m\u001b[0m\n\u001b[1;32m    713\u001b[0m                 \u001b[0mwarn\u001b[0m\u001b[0;34m(\u001b[0m\u001b[0;34m'For Windows, use double quotes to wrap a filename: %run \"mypath\\\\myfile.py\"'\u001b[0m\u001b[0;34m)\u001b[0m\u001b[0;34m\u001b[0m\u001b[0;34m\u001b[0m\u001b[0m\n\u001b[0;32m--> 714\u001b[0;31m             \u001b[0;32mraise\u001b[0m \u001b[0mException\u001b[0m\u001b[0;34m(\u001b[0m\u001b[0mmsg\u001b[0m\u001b[0;34m)\u001b[0m\u001b[0;34m\u001b[0m\u001b[0;34m\u001b[0m\u001b[0m\n\u001b[0m\u001b[1;32m    715\u001b[0m         \u001b[0;32mexcept\u001b[0m \u001b[0mTypeError\u001b[0m\u001b[0;34m:\u001b[0m\u001b[0;34m\u001b[0m\u001b[0;34m\u001b[0m\u001b[0m\n\u001b[1;32m    716\u001b[0m             \u001b[0;32mif\u001b[0m \u001b[0mfpath\u001b[0m \u001b[0;32min\u001b[0m \u001b[0msys\u001b[0m\u001b[0;34m.\u001b[0m\u001b[0mmeta_path\u001b[0m\u001b[0;34m:\u001b[0m\u001b[0;34m\u001b[0m\u001b[0;34m\u001b[0m\u001b[0m\n",
      "\u001b[0;31mException\u001b[0m: File `'sim003b.py'` not found."
     ]
    }
   ],
   "source": [
    "%run sim003b.py\n",
    "VecbS = [4,8,12,16,20,24]"
   ]
  },
  {
   "cell_type": "code",
   "execution_count": 14,
   "metadata": {},
   "outputs": [
    {
     "data": {
      "text/plain": [
       "<Figure size 4800x2400 with 0 Axes>"
      ]
     },
     "metadata": {},
     "output_type": "display_data"
    },
    {
     "data": {
      "image/png": "[encoded data removed]",
      "text/plain": [
       "<Figure size 432x288 with 1 Axes>"
      ]
     },
     "metadata": {
      "needs_background": "light"
     },
     "output_type": "display_data"
    }
   ],
   "source": [
    "plt.rcParams['axes.spines.right'] = False\n",
    "plt.rcParams['axes.spines.top'] = False\n",
    "\n",
    "plt.figure(figsize=(24, 12), dpi=200)\n",
    "\n",
    "fig,ax = plt.subplots()\n",
    "\n",
    "plt.errorbar(VecbS, mean_front_95, yerr=sd_front_95, fmt='-', color='blue', label=r'$q_{95}$')\n",
    "plt.errorbar(VecbS, mean_front_Naive, yerr=sd_front_Naive, fmt='-', color='red', label=r'Naive measure')\n",
    "plt.errorbar(VecbS, mean_front_zeros, yerr=sd_front_zeros, fmt='-', color='green', label=r'First zero')\n",
    "plt.xticks(VecbS)\n",
    "ax.set(xlabel=r'Number of channels ($b_{S}$ with $b_{T}=16$)', ylabel='Front position ($F$)',\n",
    "       title='Motilities')\n",
    "plt.grid(axis='y')\n",
    "plt.legend(loc='best')\n",
    "plt.show()"
   ]
  },
  {
   "cell_type": "code",
   "execution_count": 15,
   "metadata": {},
   "outputs": [
    {
     "data": {
      "text/plain": [
       "<Figure size 1920x960 with 0 Axes>"
      ]
     },
     "metadata": {},
     "output_type": "display_data"
    },
    {
     "data": {
      "image/png": "[encoded data removed]",
      "text/plain": [
       "<Figure size 432x288 with 2 Axes>"
      ]
     },
     "metadata": {
      "needs_background": "light"
     },
     "output_type": "display_data"
    }
   ],
   "source": [
    "plt.figure(figsize=(24, 12), dpi=80)\n",
    "\n",
    "fig,ax = plt.subplots(1,2)\n",
    "\n",
    "plt.subplot(1,2,1)\n",
    "plt.errorbar(VecbS, mean_dom_mode_95, yerr=sd_dom_mode_95, fmt='-', color='orange')\n",
    "plt.xticks(VecbS)\n",
    "\n",
    "plt.subplot(1,2,2)\n",
    "plt.errorbar(VecbS, mean_dom_mode_zeros, yerr=sd_dom_mode_zeros, fmt='-', color='purple')\n",
    "plt.xticks(VecbS)\n",
    "\n",
    "plt.show()"
   ]
  },
  {
   "cell_type": "code",
   "execution_count": 16,
   "metadata": {},
   "outputs": [
    {
     "data": {
      "text/plain": [
       "<Figure size 19200x9600 with 0 Axes>"
      ]
     },
     "metadata": {},
     "output_type": "display_data"
    },
    {
     "data": {
      "image/png": "[encoded data removed]",
      "text/plain": [
       "<Figure size 432x288 with 1 Axes>"
      ]
     },
     "metadata": {
      "needs_background": "light"
     },
     "output_type": "display_data"
    }
   ],
   "source": [
    "plt.figure(figsize=(24, 12), dpi=800)\n",
    "\n",
    "fig,ax = plt.subplots()\n",
    "\n",
    "plt.errorbar(VecbS, mean_leght_poly_95, yerr=sd_leght_poly_95, fmt='-', color='green',label=r'$q_{95}$')\n",
    "plt.errorbar(VecbS, mean_leght_poly_95CSC, yerr=sd_leght_poly_95CSC, fmt='-', color='blue',label=r'$q_{95}$ CSC')\n",
    "plt.errorbar(VecbS, mean_leght_poly_95TD, yerr=sd_leght_poly_95TD, fmt='-', color='red',label=r'$q_{95}$ TD')\n",
    "plt.xticks(VecbS)\n",
    "ax.set(xlabel=r'Number of channels ($b_{S}=b_{T}$)', ylabel='Length of curve ($F$)',\n",
    "       title='Motilities: length of curve')\n",
    "plt.grid(axis='y')\n",
    "plt.legend(loc='best')\n",
    "plt.show()"
   ]
  },
  {
   "cell_type": "code",
   "execution_count": 40,
   "metadata": {},
   "outputs": [],
   "source": [
    "%run /Users/muon02/lgca-feedback/lgca-feedback/no_img/output/exp003_fronts.py\n",
    "%run /Users/muon02/lgca-feedback/lgca-feedback/no_img/output/exp003_frontsCSC.py\n",
    "%run /Users/muon02/lgca-feedback/lgca-feedback/no_img/output/exp003_frontsTD.py\n",
    "\n",
    "%run /Users/muon02/lgca-feedback/lgca-feedback/no_img/output/exp003b_fronts.py\n",
    "%run /Users/muon02/lgca-feedback/lgca-feedback/no_img/output/exp003b_frontsCSC.py\n",
    "%run /Users/muon02/lgca-feedback/lgca-feedback/no_img/output/exp003b_frontsTD.py"
   ]
  },
  {
   "cell_type": "code",
   "execution_count": 23,
   "metadata": {},
   "outputs": [
    {
     "data": {
      "text/plain": [
       "<matplotlib.image.AxesImage at 0x118677220>"
      ]
     },
     "execution_count": 23,
     "metadata": {},
     "output_type": "execute_result"
    },
    {
     "data": {
      "image/png": "[encoded data removed]",
      "text/plain": [
       "<Figure size 432x288 with 1 Axes>"
      ]
     },
     "metadata": {
      "needs_background": "light"
     },
     "output_type": "display_data"
    }
   ],
   "source": [
    "def plot_colorline(bSCSCfront, bSTDfront):\n",
    "    aux = []\n",
    "    top = max(bSCSCfront)+1\n",
    "    for i in range(len(bSCSCfront)):\n",
    "        if (bSTDfront[i]==0):\n",
    "            aux.append(top)\n",
    "        else:\n",
    "            aux.append(bSCSCfront[i]/bSTDfront[i])\n",
    "    return np.array([aux])"
   ]
  },
  {
   "cell_type": "code",
   "execution_count": 41,
   "metadata": {},
   "outputs": [
    {
     "data": {
      "text/plain": [
       "<matplotlib.image.AxesImage at 0x11b049280>"
      ]
     },
     "execution_count": 41,
     "metadata": {},
     "output_type": "execute_result"
    },
    {
     "data": {
      "image/png": "[encoded data removed]",
      "text/plain": [
       "<Figure size 432x288 with 5 Axes>"
      ]
     },
     "metadata": {
      "needs_background": "light"
     },
     "output_type": "display_data"
    }
   ],
   "source": [
    "plt.subplot(5,1,1)\n",
    "plt.axis('off')\n",
    "plt.imshow(plot_colorline(bS_4_rep_0CSC,bS_4_rep_0TD))\n",
    "\n",
    "plt.subplot(5,1,2)\n",
    "plt.axis('off')\n",
    "plt.imshow(plot_colorline(bS_4_rep_1CSC,bS_4_rep_1TD))\n",
    "\n",
    "plt.subplot(5,1,3)\n",
    "plt.axis('off')\n",
    "plt.imshow(plot_colorline(bS_4_rep_2CSC,bS_4_rep_2TD))\n",
    "\n",
    "plt.subplot(5,1,4)\n",
    "plt.axis('off')\n",
    "plt.imshow(plot_colorline(bS_4_rep_3CSC,bS_4_rep_3TD))\n",
    "\n",
    "plt.subplot(5,1,5)\n",
    "plt.axis('off')\n",
    "plt.imshow(plot_colorline(bS_4_rep_4CSC,bS_4_rep_4TD))"
   ]
  },
  {
   "cell_type": "code",
   "execution_count": 42,
   "metadata": {},
   "outputs": [
    {
     "data": {
      "text/plain": [
       "<matplotlib.image.AxesImage at 0x11a0c82e0>"
      ]
     },
     "execution_count": 42,
     "metadata": {},
     "output_type": "execute_result"
    },
    {
     "data": {
      "image/png": "[encoded data removed]",
      "text/plain": [
       "<Figure size 432x288 with 5 Axes>"
      ]
     },
     "metadata": {
      "needs_background": "light"
     },
     "output_type": "display_data"
    }
   ],
   "source": [
    "plt.subplot(5,1,1)\n",
    "plt.axis('off')\n",
    "plt.imshow(plot_colorline(bS_8_rep_0CSC,bS_8_rep_0TD))\n",
    "\n",
    "plt.subplot(5,1,2)\n",
    "plt.axis('off')\n",
    "plt.imshow(plot_colorline(bS_8_rep_1CSC,bS_8_rep_1TD))\n",
    "\n",
    "plt.subplot(5,1,3)\n",
    "plt.axis('off')\n",
    "plt.imshow(plot_colorline(bS_8_rep_2CSC,bS_8_rep_2TD))\n",
    "\n",
    "plt.subplot(5,1,4)\n",
    "plt.axis('off')\n",
    "plt.imshow(plot_colorline(bS_8_rep_3CSC,bS_8_rep_3TD))\n",
    "\n",
    "plt.subplot(5,1,5)\n",
    "plt.axis('off')\n",
    "plt.imshow(plot_colorline(bS_8_rep_4CSC,bS_8_rep_4TD))"
   ]
  },
  {
   "cell_type": "code",
   "execution_count": 43,
   "metadata": {},
   "outputs": [
    {
     "data": {
      "text/plain": [
       "<matplotlib.image.AxesImage at 0x11a452ee0>"
      ]
     },
     "execution_count": 43,
     "metadata": {},
     "output_type": "execute_result"
    },
    {
     "data": {
      "image/png": "[encoded data removed]",
      "text/plain": [
       "<Figure size 432x288 with 5 Axes>"
      ]
     },
     "metadata": {
      "needs_background": "light"
     },
     "output_type": "display_data"
    }
   ],
   "source": [
    "plt.subplot(5,1,1)\n",
    "plt.axis('off')\n",
    "plt.imshow(plot_colorline(bS_12_rep_0CSC,bS_12_rep_0TD))\n",
    "\n",
    "plt.subplot(5,1,2)\n",
    "plt.axis('off')\n",
    "plt.imshow(plot_colorline(bS_12_rep_1CSC,bS_12_rep_1TD))\n",
    "\n",
    "plt.subplot(5,1,3)\n",
    "plt.axis('off')\n",
    "plt.imshow(plot_colorline(bS_12_rep_2CSC,bS_12_rep_2TD))\n",
    "\n",
    "plt.subplot(5,1,4)\n",
    "plt.axis('off')\n",
    "plt.imshow(plot_colorline(bS_12_rep_3CSC,bS_12_rep_3TD))\n",
    "\n",
    "plt.subplot(5,1,5)\n",
    "plt.axis('off')\n",
    "plt.imshow(plot_colorline(bS_12_rep_4CSC,bS_12_rep_4TD))"
   ]
  },
  {
   "cell_type": "code",
   "execution_count": 44,
   "metadata": {},
   "outputs": [
    {
     "data": {
      "text/plain": [
       "<matplotlib.image.AxesImage at 0x11a62cb20>"
      ]
     },
     "execution_count": 44,
     "metadata": {},
     "output_type": "execute_result"
    },
    {
     "data": {
      "image/png": "[encoded data removed]",
      "text/plain": [
       "<Figure size 432x288 with 5 Axes>"
      ]
     },
     "metadata": {
      "needs_background": "light"
     },
     "output_type": "display_data"
    }
   ],
   "source": [
    "plt.subplot(5,1,1)\n",
    "plt.axis('off')\n",
    "plt.imshow(plot_colorline(bS_16_rep_0CSC,bS_16_rep_0TD))\n",
    "\n",
    "plt.subplot(5,1,2)\n",
    "plt.axis('off')\n",
    "plt.imshow(plot_colorline(bS_16_rep_1CSC,bS_16_rep_1TD))\n",
    "\n",
    "plt.subplot(5,1,3)\n",
    "plt.axis('off')\n",
    "plt.imshow(plot_colorline(bS_16_rep_2CSC,bS_16_rep_2TD))\n",
    "\n",
    "plt.subplot(5,1,4)\n",
    "plt.axis('off')\n",
    "plt.imshow(plot_colorline(bS_16_rep_3CSC,bS_16_rep_3TD))\n",
    "\n",
    "plt.subplot(5,1,5)\n",
    "plt.axis('off')\n",
    "plt.imshow(plot_colorline(bS_16_rep_4CSC,bS_16_rep_4TD))"
   ]
  },
  {
   "cell_type": "code",
   "execution_count": 45,
   "metadata": {},
   "outputs": [
    {
     "data": {
      "text/plain": [
       "<matplotlib.image.AxesImage at 0x118c11df0>"
      ]
     },
     "execution_count": 45,
     "metadata": {},
     "output_type": "execute_result"
    },
    {
     "data": {
      "image/png": "[encoded data removed]",
      "text/plain": [
       "<Figure size 432x288 with 5 Axes>"
      ]
     },
     "metadata": {
      "needs_background": "light"
     },
     "output_type": "display_data"
    }
   ],
   "source": [
    "plt.subplot(5,1,1)\n",
    "plt.axis('off')\n",
    "plt.imshow(plot_colorline(bS_20_rep_0CSC,bS_20_rep_0TD))\n",
    "\n",
    "plt.subplot(5,1,2)\n",
    "plt.axis('off')\n",
    "plt.imshow(plot_colorline(bS_20_rep_1CSC,bS_20_rep_1TD))\n",
    "\n",
    "plt.subplot(5,1,3)\n",
    "plt.axis('off')\n",
    "plt.imshow(plot_colorline(bS_20_rep_2CSC,bS_20_rep_2TD))\n",
    "\n",
    "plt.subplot(5,1,4)\n",
    "plt.axis('off')\n",
    "plt.imshow(plot_colorline(bS_20_rep_3CSC,bS_20_rep_3TD))\n",
    "\n",
    "plt.subplot(5,1,5)\n",
    "plt.axis('off')\n",
    "plt.imshow(plot_colorline(bS_20_rep_7CSC,bS_20_rep_7TD))"
   ]
  },
  {
   "cell_type": "code",
   "execution_count": 46,
   "metadata": {},
   "outputs": [
    {
     "data": {
      "text/plain": [
       "<matplotlib.image.AxesImage at 0x119fa5c40>"
      ]
     },
     "execution_count": 46,
     "metadata": {},
     "output_type": "execute_result"
    },
    {
     "data": {
      "image/png": "[encoded data removed]",
      "text/plain": [
       "<Figure size 432x288 with 5 Axes>"
      ]
     },
     "metadata": {
      "needs_background": "light"
     },
     "output_type": "display_data"
    }
   ],
   "source": [
    "plt.subplot(5,1,1)\n",
    "plt.axis('off')\n",
    "plt.imshow(plot_colorline(bS_24_rep_0CSC,bS_24_rep_0TD))\n",
    "\n",
    "plt.subplot(5,1,2)\n",
    "plt.axis('off')\n",
    "plt.imshow(plot_colorline(bS_24_rep_1CSC,bS_24_rep_1TD))\n",
    "\n",
    "plt.subplot(5,1,3)\n",
    "plt.axis('off')\n",
    "plt.imshow(plot_colorline(bS_24_rep_2CSC,bS_24_rep_2TD))\n",
    "\n",
    "plt.subplot(5,1,4)\n",
    "plt.axis('off')\n",
    "plt.imshow(plot_colorline(bS_24_rep_3CSC,bS_24_rep_3TD))\n",
    "\n",
    "plt.subplot(5,1,5)\n",
    "plt.axis('off')\n",
    "plt.imshow(plot_colorline(bS_24_rep_4CSC,bS_24_rep_4TD))"
   ]
  },
  {
   "cell_type": "code",
   "execution_count": 47,
   "metadata": {},
   "outputs": [
    {
     "data": {
      "image/png": "[encoded data removed]",
      "text/plain": [
       "<Figure size 432x288 with 6 Axes>"
      ]
     },
     "metadata": {
      "needs_background": "light"
     },
     "output_type": "display_data"
    }
   ],
   "source": [
    "# Selection\n",
    "\n",
    "plt.subplot(6,1,1)\n",
    "plt.axis('off')\n",
    "plt.imshow(plot_colorline(bS_4_rep_4CSC,bS_4_rep_4TD))\n",
    "\n",
    "plt.subplot(6,1,2)\n",
    "plt.axis('off')\n",
    "plt.imshow(plot_colorline(bS_8_rep_1CSC,bS_8_rep_1TD))\n",
    "\n",
    "plt.subplot(6,1,3)\n",
    "plt.axis('off')\n",
    "plt.imshow(plot_colorline(bS_12_rep_0CSC,bS_12_rep_0TD))\n",
    "\n",
    "\n",
    "plt.subplot(6,1,4)\n",
    "plt.axis('off')\n",
    "plt.imshow(plot_colorline(bS_16_rep_2CSC,bS_16_rep_2TD))\n",
    "\n",
    "\n",
    "plt.subplot(6,1,5)\n",
    "plt.axis('off')\n",
    "plt.imshow(plot_colorline(bS_20_rep_0CSC,bS_20_rep_0TD))\n",
    "\n",
    "\n",
    "plt.subplot(6,1,6)\n",
    "plt.axis('off')\n",
    "plt.imshow(plot_colorline(bS_24_rep_0CSC,bS_24_rep_0TD))\n",
    "\n",
    "\n",
    "plt.savefig('exp003.png',dpi=400)"
   ]
  },
  {
   "cell_type": "markdown",
   "metadata": {},
   "source": [
    "# $b_T = 4$"
   ]
  },
  {
   "cell_type": "code",
   "execution_count": 39,
   "metadata": {},
   "outputs": [],
   "source": []
  },
  {
   "cell_type": "code",
   "execution_count": null,
   "metadata": {},
   "outputs": [],
   "source": []
  }
 ],
 "metadata": {
  "kernelspec": {
   "display_name": "Python 3 (ipykernel)",
   "language": "python",
   "name": "python3"
  },
  "language_info": {
   "codemirror_mode": {
    "name": "ipython",
    "version": 3
   },
   "file_extension": ".py",
   "mimetype": "text/x-python",
   "name": "python",
   "nbconvert_exporter": "python",
   "pygments_lexer": "ipython3",
   "version": "3.8.11"
  },
  "varInspector": {
   "cols": {
    "lenName": 16,
    "lenType": 16,
    "lenVar": 40
   },
   "kernels_config": {
    "python": {
     "delete_cmd_postfix": "",
     "delete_cmd_prefix": "del ",
     "library": "var_list.py",
     "varRefreshCmd": "print(var_dic_list())"
    },
    "r": {
     "delete_cmd_postfix": ") ",
     "delete_cmd_prefix": "rm(",
     "library": "var_list.r",
     "varRefreshCmd": "cat(var_dic_list()) "
    }
   },
   "position": {
    "height": "395.85px",
    "left": "668px",
    "right": "20px",
    "top": "42px",
    "width": "645px"
   },
   "types_to_exclude": [
    "module",
    "function",
    "builtin_function_or_method",
    "instance",
    "_Feature"
   ],
   "window_display": false
  }
 },
 "nbformat": 4,
 "nbformat_minor": 4
}
