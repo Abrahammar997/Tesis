{
 "cells": [
  {
   "cell_type": "code",
   "execution_count": 1,
   "metadata": {},
   "outputs": [],
   "source": [
    "import matplotlib.pyplot as plt\n",
    "import numpy as np"
   ]
  },
  {
   "cell_type": "code",
   "execution_count": 2,
   "metadata": {},
   "outputs": [],
   "source": [
    "%run /Users/muon02/lgca-feedback/lgca-feedback/no_img/output/sim001.py"
   ]
  },
  {
   "cell_type": "code",
   "execution_count": 3,
   "metadata": {},
   "outputs": [],
   "source": [
    "alpha = [0,1,2,3,4]"
   ]
  },
  {
   "cell_type": "code",
   "execution_count": null,
   "metadata": {},
   "outputs": [],
   "source": [
    "plt.figure(figsize=(24, 12), dpi=80)\n",
    "\n",
    "fig,ax = plt.subplots()\n",
    "\n",
    "plt.errorbar(VecbS, mean_front_95, yerr=sd_leght_poly_95, fmt='-', color='green')\n",
    "plt.errorbar(VecbS, mean_leght_poly_95CSC, yerr=sd_leght_poly_95CSC, fmt='-', color='blue')\n",
    "plt.errorbar(VecbS, mean_leght_poly_95TD, yerr=sd_leght_poly_95TD, fmt='-', color='red')\n",
    "plt.xticks(alpha)\n",
    "ax.set(xlabel=r'Number of channels ($b_{S}=b_{T}$)', ylabel='Length of curve ($F$)',\n",
    "       title='Motilities length of curve')\n",
    "plt.show()"
   ]
  }
 ],
 "metadata": {
  "kernelspec": {
   "display_name": "Python 3",
   "language": "python",
   "name": "python3"
  },
  "language_info": {
   "codemirror_mode": {
    "name": "ipython",
    "version": 3
   },
   "file_extension": ".py",
   "mimetype": "text/x-python",
   "name": "python",
   "nbconvert_exporter": "python",
   "pygments_lexer": "ipython3",
   "version": "3.8.5"
  },
  "varInspector": {
   "cols": {
    "lenName": 16,
    "lenType": 16,
    "lenVar": 40
   },
   "kernels_config": {
    "python": {
     "delete_cmd_postfix": "",
     "delete_cmd_prefix": "del ",
     "library": "var_list.py",
     "varRefreshCmd": "print(var_dic_list())"
    },
    "r": {
     "delete_cmd_postfix": ") ",
     "delete_cmd_prefix": "rm(",
     "library": "var_list.r",
     "varRefreshCmd": "cat(var_dic_list()) "
    }
   },
   "position": {
    "height": "130.39999389648438px",
    "left": "790.5999755859375px",
    "right": "20px",
    "top": "120px",
    "width": "341.3999938964844px"
   },
   "types_to_exclude": [
    "module",
    "function",
    "builtin_function_or_method",
    "instance",
    "_Feature"
   ],
   "window_display": true
  }
 },
 "nbformat": 4,
 "nbformat_minor": 4
}
